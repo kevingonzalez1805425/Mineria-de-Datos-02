{
 "cells": [
  {
   "cell_type": "markdown",
   "metadata": {},
   "source": [
    "# Ejercicios Phyton\n",
    "# Kevin Franco Gonzalez Gonzalez 1805425\n",
    "\n",
    "\n",
    "# Ejercicio 1\n",
    "Realiza una variable con tu matricula y realiza una secuencia de imprimir con tu nombre y tu matricula concatenados."
   ]
  },
  {
   "cell_type": "code",
   "execution_count": 1,
   "metadata": {},
   "outputs": [
    {
     "name": "stdout",
     "output_type": "stream",
     "text": [
      "Kevin Franco Gonzalez Gonzalez 1805425\n"
     ]
    }
   ],
   "source": [
    "x=1805425\n",
    "y=\"Kevin Franco Gonzalez Gonzalez\"\n",
    "\n",
    "print(y,x)"
   ]
  },
  {
   "cell_type": "markdown",
   "metadata": {},
   "source": [
    "# Ejercicio 2:\n",
    "Pidiendo el input del usuario pide dos números y crea una pequeña calculadora con los operadores básicos de suma, resta, multiplicación, división, y exponente."
   ]
  },
  {
   "cell_type": "code",
   "execution_count": 25,
   "metadata": {},
   "outputs": [
    {
     "name": "stdin",
     "output_type": "stream",
     "text": [
      "Introduce un número: 5\n",
      "Introduce otro número:  3\n"
     ]
    },
    {
     "name": "stdout",
     "output_type": "stream",
     "text": [
      "La suma de los numeros  es: 8\n",
      "La resta  de los numeros es:  2\n",
      "El producto de los numeros  es: 15\n",
      "La división de los numeros es: 1.6666666666666667\n",
      "El primer número elevado a la potencia del segundo es: 125\n"
     ]
    }
   ],
   "source": [
    "x = int(input(\"Introduce un número:\" ))\n",
    "y = int(input(\"Introduce otro número: \"))\n",
    "suma = x + y\n",
    "resta = x-y\n",
    "multiplicacion = x * y\n",
    "division= x/y\n",
    "exponente= x**y\n",
    "\n",
    "print(\"La suma de los numeros  es:\", suma)\n",
    "print(\"La resta  de los numeros es: \", resta)\n",
    "print(\"El producto de los numeros  es:\", multiplicacion)\n",
    "print(\"La división de los numeros es:\", division)\n",
    "print(\"El primer número elevado a la potencia del segundo es:\", exponente)"
   ]
  },
  {
   "cell_type": "markdown",
   "metadata": {},
   "source": [
    "# Ejercicio 3:\n",
    "Con loop while o for, realiza una lista de 10 numeros multiplos de 3, y después realiza una función de loop que sume todos los números dentro del arreglo."
   ]
  },
  {
   "cell_type": "code",
   "execution_count": 6,
   "metadata": {},
   "outputs": [
    {
     "name": "stdout",
     "output_type": "stream",
     "text": [
      "3\n",
      "6\n",
      "9\n",
      "12\n",
      "15\n",
      "18\n",
      "21\n",
      "24\n",
      "27\n",
      "30\n",
      "la suma de todos los numeros dentro del arreglo es : 165\n"
     ]
    }
   ],
   "source": [
    "import numpy as n\n",
    "lista=list()\n",
    "arreglosuma=0\n",
    "for i in range (1,11):\n",
    "    multiplos= i*3\n",
    "    lista.append(multiplos)\n",
    "    print(multiplos)\n",
    "    arreglosuma=arreglosuma+multiplos\n",
    "   \n",
    "print(\"la suma de todos los numeros dentro del arreglo es :\",arreglosuma)\n"
   ]
  },
  {
   "cell_type": "markdown",
   "metadata": {},
   "source": [
    "# Ejercicio 4\n",
    "Con una función de if else, revisar si un número es par o es impar.\n",
    "Con una función de if else, revisar si un número es primo o no."
   ]
  },
  {
   "cell_type": "code",
   "execution_count": 1,
   "metadata": {},
   "outputs": [
    {
     "name": "stdin",
     "output_type": "stream",
     "text": [
      "Teclea el  numero a analizar si es par : 10\n"
     ]
    },
    {
     "name": "stdout",
     "output_type": "stream",
     "text": [
      "tu numero 10  es un numero par\n"
     ]
    },
    {
     "name": "stdin",
     "output_type": "stream",
     "text": [
      "Teclea el segundo numero a analizar si es primo :  5\n"
     ]
    },
    {
     "name": "stdout",
     "output_type": "stream",
     "text": [
      "El número 5  es primo\n"
     ]
    }
   ],
   "source": [
    "x = int(input(\"Teclea el  numero a analizar si es par :\" ))\n",
    "z=1\n",
    "if(x%2==0):\n",
    "    print(\"tu numero\",x,\" es un numero par\")\n",
    "    \n",
    "else:\n",
    "    print(\"tu numero\",x,\" no es un numero par\")\n",
    "\n",
    "y = int(input(\"Teclea el segundo numero a analizar si es primo : \"))\n",
    "\n",
    "if y < 1:\n",
    "    print(\"Error\")\n",
    "elif y == 2:\n",
    "        print(\"El número es primo\")\n",
    "else:\n",
    "    for i in range(2, y):\n",
    "        if y % i == 0:\n",
    "            z = 0\n",
    "if z == 0:\n",
    "    print(\"El número\",y,\" no es primo\")\n",
    "else:\n",
    "    print(\"El número\",y,\" es primo\")\n",
    "\n"
   ]
  },
  {
   "cell_type": "markdown",
   "metadata": {},
   "source": [
    "# Ejercicio 5\n",
    "Utilizando diferentes clases en python, crea una calculadora con los operadores básicos de suma, resta, multiplicación, división, y exponente.\n",
    "\n",
    "Funciones matemáticas en la librería de math en python:"
   ]
  },
  {
   "cell_type": "code",
   "execution_count": 18,
   "metadata": {},
   "outputs": [
    {
     "name": "stdout",
     "output_type": "stream",
     "text": [
      "************\n",
      "Calculadora\n",
      "************\n",
      "Menu\n",
      "1) Suma\n",
      "2) Resta\n",
      "3) Exponente\n",
      "4) Multiplicacion\n",
      "5) Dvision\n",
      "6) Salir\n"
     ]
    },
    {
     "name": "stdin",
     "output_type": "stream",
     "text": [
      "Selecione Opcion\n",
      " 5\n",
      "Ingrese Numero\n",
      " 5\n",
      "Ingrese Otro Numero\n",
      " 0\n"
     ]
    },
    {
     "name": "stdout",
     "output_type": "stream",
     "text": [
      "No se Permite la Division Entre 0\n"
     ]
    },
    {
     "name": "stdin",
     "output_type": "stream",
     "text": [
      "Selecione Opcion\n",
      " 6\n"
     ]
    }
   ],
   "source": [
    "def Menu():\n",
    "    \"\"\"Funcion que Muestra el Menu\"\"\"\n",
    "    print( \"\"\"************\n",
    "Calculadora\n",
    "************\n",
    "Menu\n",
    "1) Suma\n",
    "2) Resta\n",
    "3) Exponente\n",
    "4) Multiplicacion\n",
    "5) Dvision\n",
    "6) Salir\"\"\")\n",
    "def Calculadora():\n",
    "    \"\"\"Funcion Para Calcular Operaciones Aritmeticas\"\"\"\n",
    "    Menu()\n",
    "    opc = int(input(\"Selecione Opcion\\n\"))\n",
    "    while (opc >0 and opc <6):\n",
    "        x = int(input(\"Ingrese Numero\\n\"))\n",
    "        y = int(input(\"Ingrese Otro Numero\\n\"))\n",
    "        if (opc==1):\n",
    "            print (\"La Suma es:\", x+y)\n",
    "            opc = int(input(\"Selecione Opcion\\n\"))\n",
    "        elif(opc==2):\n",
    "            print (\"La Resta es:\",x-y)\n",
    "            opc = int(input(\"Selecione Opcion\\n\"))\n",
    "        elif(opc==3):\n",
    "            print( \"La aplicacion de exponente  es:\",x**y)\n",
    "            opc = int(input(\"Selecione Opcion\\n\"))    \n",
    "        elif(opc==4):\n",
    "            print (\"La Multiplicacion es:\",x*y)\n",
    "            opc = int(input(\"Selecione Opcion\\n\"))\n",
    "        elif(opc==5):\n",
    "            try:\n",
    "              print (\"La Division es:\", x/y)\n",
    "              opc = int(input(\"Selecione Opcion\\n\"))\n",
    "            except ZeroDivisionError:\n",
    "              print (\"No se Permite la Division Entre 0\")\n",
    "              opc = int(input(\"Selecione Opcion\\n\"))\n",
    "Calculadora()"
   ]
  },
  {
   "cell_type": "markdown",
   "metadata": {},
   "source": [
    "# Tuplas\n",
    "Crear una variable flotante, integer, boleana y compleja e imprimir el tipo de variable que es.\n",
    "\n"
   ]
  },
  {
   "cell_type": "code",
   "execution_count": 20,
   "metadata": {},
   "outputs": [
    {
     "name": "stdout",
     "output_type": "stream",
     "text": [
      "La variable w: 5  es de tipo : <class 'int'>\n",
      "La variable x: 2.1  es de tipo <class 'float'>\n",
      "La variable y: True  es de tipo <class 'bool'>\n",
      "La variable z: (5+3j)  es de tipo  <class 'complex'>\n"
     ]
    }
   ],
   "source": [
    "w = int(5)\n",
    "x = float(2.1)\n",
    "y = bool(45)\n",
    "z = 3j+ 5\n",
    "print(\"La variable w:\",w, \" es de tipo :\", type(a))\n",
    "print(\"La variable x:\",x, \" es de tipo\", type(b))\n",
    "print(\"La variable y:\", y, \" es de tipo\", type(c))\n",
    "print(\"La variable z:\",z, \" es de tipo \", type(d))"
   ]
  },
  {
   "cell_type": "markdown",
   "metadata": {},
   "source": [
    "Crear una tupla con valores enteros imprimir el primer y ultimo valor."
   ]
  },
  {
   "cell_type": "code",
   "execution_count": 21,
   "metadata": {},
   "outputs": [
    {
     "data": {
      "text/plain": [
       "(5, 9)"
      ]
     },
     "execution_count": 21,
     "metadata": {},
     "output_type": "execute_result"
    }
   ],
   "source": [
    "tuplavalores = (5,7,9)\n",
    "tuplavalores[0], tuplavalores[2]"
   ]
  },
  {
   "cell_type": "markdown",
   "metadata": {},
   "source": [
    "Añadir 3 valores de string a la tupla.\n"
   ]
  },
  {
   "cell_type": "code",
   "execution_count": 2,
   "metadata": {},
   "outputs": [
    {
     "data": {
      "text/plain": [
       "(('tuplavalores, Probando', 'Añadir', 'Strings'),\n",
       " 'Probando',\n",
       " 'Añadir',\n",
       " 'String')"
      ]
     },
     "execution_count": 2,
     "metadata": {},
     "output_type": "execute_result"
    }
   ],
   "source": [
    "tuplavalores = \"tuplavalores, Probando\", \"Añadir\",\"Strings\"\n",
    "tuplavalores= tuplavalores, \"Probando\", \"Añadir\",\"String\"\n",
    "tuplavalores"
   ]
  },
  {
   "cell_type": "markdown",
   "metadata": {},
   "source": [
    "Verificar si una variable existe dentro de la tupla."
   ]
  },
  {
   "cell_type": "code",
   "execution_count": 4,
   "metadata": {},
   "outputs": [
    {
     "name": "stdout",
     "output_type": "stream",
     "text": [
      "1\n"
     ]
    },
    {
     "ename": "ValueError",
     "evalue": "tuple.index(x): x not in tuple",
     "output_type": "error",
     "traceback": [
      "\u001b[1;31m---------------------------------------------------------------------------\u001b[0m",
      "\u001b[1;31mValueError\u001b[0m                                Traceback (most recent call last)",
      "\u001b[1;32m<ipython-input-4-db0dab3a12af>\u001b[0m in \u001b[0;36m<module>\u001b[1;34m\u001b[0m\n\u001b[0;32m      1\u001b[0m \u001b[0mprint\u001b[0m\u001b[1;33m(\u001b[0m\u001b[0mtuplavalores\u001b[0m\u001b[1;33m.\u001b[0m\u001b[0mindex\u001b[0m\u001b[1;33m(\u001b[0m\u001b[1;34m\"Probando\"\u001b[0m\u001b[1;33m)\u001b[0m\u001b[1;33m)\u001b[0m\u001b[1;33m\u001b[0m\u001b[1;33m\u001b[0m\u001b[0m\n\u001b[1;32m----> 2\u001b[1;33m \u001b[0mprint\u001b[0m\u001b[1;33m(\u001b[0m\u001b[0mtuplavalores\u001b[0m\u001b[1;33m.\u001b[0m\u001b[0mindex\u001b[0m\u001b[1;33m(\u001b[0m\u001b[1;36m4\u001b[0m\u001b[1;33m)\u001b[0m\u001b[1;33m)\u001b[0m\u001b[1;33m\u001b[0m\u001b[1;33m\u001b[0m\u001b[0m\n\u001b[0m",
      "\u001b[1;31mValueError\u001b[0m: tuple.index(x): x not in tuple"
     ]
    }
   ],
   "source": [
    "print(tuplavalores.index(\"Probando\"))\n",
    "print(tuplavalores.index(4))"
   ]
  },
  {
   "cell_type": "markdown",
   "metadata": {},
   "source": [
    "\n",
    "# Listas"
   ]
  },
  {
   "cell_type": "markdown",
   "metadata": {},
   "source": [
    "Crear una lista con 40 elementos aleatorios enteros."
   ]
  },
  {
   "cell_type": "code",
   "execution_count": 5,
   "metadata": {},
   "outputs": [
    {
     "data": {
      "text/plain": [
       "[85,\n",
       " 17,\n",
       " 5,\n",
       " 12,\n",
       " 66,\n",
       " 76,\n",
       " 62,\n",
       " 97,\n",
       " 38,\n",
       " 31,\n",
       " 98,\n",
       " 24,\n",
       " 28,\n",
       " 89,\n",
       " 55,\n",
       " 14,\n",
       " 63,\n",
       " 42,\n",
       " 54,\n",
       " 67,\n",
       " 68,\n",
       " 83,\n",
       " 3,\n",
       " 96,\n",
       " 19,\n",
       " 60,\n",
       " 34,\n",
       " 92,\n",
       " 36,\n",
       " 71,\n",
       " 78,\n",
       " 21,\n",
       " 84,\n",
       " 10,\n",
       " 91,\n",
       " 15,\n",
       " 33,\n",
       " 81,\n",
       " 16,\n",
       " 52]"
      ]
     },
     "execution_count": 5,
     "metadata": {},
     "output_type": "execute_result"
    }
   ],
   "source": [
    "import random as a\n",
    "listaaleatorio = range(0,100)\n",
    "listaaleatorio = a.sample(listaaleatorio, k = 40)\n",
    "listaaleatorio"
   ]
  },
  {
   "cell_type": "markdown",
   "metadata": {},
   "source": [
    "Con una funcion (def) crear dos listas nuevas a partir de la lista creada por numeros aleatorios, en la cual en una esten los elementos pares, y en la otra los elementos impares."
   ]
  },
  {
   "cell_type": "code",
   "execution_count": 12,
   "metadata": {},
   "outputs": [
    {
     "ename": "SyntaxError",
     "evalue": "invalid syntax (<ipython-input-12-f203f8e33fd7>, line 10)",
     "output_type": "error",
     "traceback": [
      "\u001b[1;36m  File \u001b[1;32m\"<ipython-input-12-f203f8e33fd7>\"\u001b[1;36m, line \u001b[1;32m10\u001b[0m\n\u001b[1;33m    print(\"los pares son\",pares)\u001b[0m\n\u001b[1;37m        ^\u001b[0m\n\u001b[1;31mSyntaxError\u001b[0m\u001b[1;31m:\u001b[0m invalid syntax\n"
     ]
    }
   ],
   "source": [
    "pares = [] \n",
    "impares = []\n",
    "for i in range(len(listaaleatorio)):\n",
    "        listaaleatorio[i]\n",
    "        if listaaleatorio[i] %2 == 0:\n",
    "            pares.append(listaaleatorio[i])\n",
    "        else:\n",
    "            impares.append(listaaleatorio[i]\n",
    "\n"
   ]
  },
  {
   "cell_type": "code",
   "execution_count": 14,
   "metadata": {},
   "outputs": [
    {
     "name": "stdout",
     "output_type": "stream",
     "text": [
      "los pares son [12, 66, 76, 62, 38, 98, 24, 28, 14, 42, 54, 68, 96, 60, 34, 92, 36, 78, 84, 10, 16, 52]\n"
     ]
    }
   ],
   "source": [
    "print(\"los pares son\",pares)"
   ]
  },
  {
   "cell_type": "code",
   "execution_count": 15,
   "metadata": {},
   "outputs": [
    {
     "name": "stdout",
     "output_type": "stream",
     "text": [
      "los impares son [85, 17, 5, 97, 31, 89, 55, 63, 67, 83, 3, 19, 71, 21, 91, 15, 33, 81]\n"
     ]
    }
   ],
   "source": [
    "print(\"los impares son\",impares)"
   ]
  },
  {
   "cell_type": "markdown",
   "metadata": {},
   "source": [
    "Crear dos variables con la longitud de ambas listas nuevas e imprimir las variables."
   ]
  },
  {
   "cell_type": "code",
   "execution_count": 16,
   "metadata": {},
   "outputs": [
    {
     "name": "stdout",
     "output_type": "stream",
     "text": [
      "Hay 22 pares en la lista\n",
      "Hay 18 impares en la lista 18\n"
     ]
    }
   ],
   "source": [
    "dimpar= len(pares)\n",
    "dimimpar= len(impares)\n",
    "print(\"Hay\",dimpar,\"pares en la lista\")\n",
    "print(\"Hay\",dimimpar,\"impares en la lista\")"
   ]
  },
  {
   "cell_type": "markdown",
   "metadata": {},
   "source": [
    "Ordenar los elementos de la lista par de mayor a menor, y los de la lista impar de menor a mayor."
   ]
  },
  {
   "cell_type": "code",
   "execution_count": 22,
   "metadata": {},
   "outputs": [
    {
     "name": "stdout",
     "output_type": "stream",
     "text": [
      "[98, 96, 92, 84, 78, 76, 68, 66, 62, 60, 54, 52, 42, 38, 36, 34, 28, 24, 16, 14, 12, 10]\n"
     ]
    }
   ],
   "source": [
    "ordenpar = sorted(pares, reverse = True)\n",
    "print(ordenpar)\n",
    "\n"
   ]
  },
  {
   "cell_type": "code",
   "execution_count": 23,
   "metadata": {},
   "outputs": [
    {
     "data": {
      "text/plain": [
       "[3, 5, 15, 17, 19, 21, 31, 33, 55, 63, 67, 71, 81, 83, 85, 89, 91, 97]"
      ]
     },
     "execution_count": 23,
     "metadata": {},
     "output_type": "execute_result"
    }
   ],
   "source": [
    "\n",
    "ordenimpar=sorted(impares)\n",
    "ordenimpar"
   ]
  },
  {
   "cell_type": "markdown",
   "metadata": {},
   "source": [
    "Utilizar al menos cuatro de las funciones de listas en python en la lista original de 40 elementos."
   ]
  },
  {
   "cell_type": "code",
   "execution_count": null,
   "metadata": {},
   "outputs": [],
   "source": [
    "listaaleatorio[5]=55\n",
    "lista.append(5)\n",
    "lista.extend([105])\n",
    "lista.count(105)"
   ]
  },
  {
   "cell_type": "markdown",
   "metadata": {},
   "source": [
    "# Diccionarios"
   ]
  },
  {
   "cell_type": "markdown",
   "metadata": {},
   "source": [
    "Crear un diccionario de 6 personas que conozcas con su primer nombre y su edad."
   ]
  },
  {
   "cell_type": "code",
   "execution_count": 52,
   "metadata": {},
   "outputs": [
    {
     "data": {
      "text/plain": [
       "{'Nombres': ['Amanda', 'Paola', 'Damaris', 'Abril', 'Regina', 'Angela'],\n",
       " 'Edades': [19, 20, 24, 21, 18, 22]}"
      ]
     },
     "execution_count": 52,
     "metadata": {},
     "output_type": "execute_result"
    }
   ],
   "source": [
    "diccionario = {'Nombres' : ['Amanda','Paola','Damaris','Abril','Regina', 'Angela'],'Edades' : [19, 20, 24, 21, 18, 22]}\n",
    "diccionario"
   ]
  },
  {
   "cell_type": "markdown",
   "metadata": {},
   "source": [
    "Crear una lista con los valores de la edad y reacomodar la lista de menor a mayor valor."
   ]
  },
  {
   "cell_type": "code",
   "execution_count": 55,
   "metadata": {},
   "outputs": [
    {
     "name": "stdout",
     "output_type": "stream",
     "text": [
      "Las edades de menor  a mayor son [18, 19, 20, 21, 22, 24]\n"
     ]
    }
   ],
   "source": [
    "ordendicc= diccionario.get('Edades')\n",
    "ordendicc.sort()\n",
    "print (\"Las edades de menor  a mayor son\",ordendicc)\n"
   ]
  },
  {
   "cell_type": "markdown",
   "metadata": {},
   "source": [
    "Usando el diccionario y un loop, imprimir solo los nombres."
   ]
  },
  {
   "cell_type": "code",
   "execution_count": 56,
   "metadata": {},
   "outputs": [
    {
     "data": {
      "text/plain": [
       "['Amanda', 'Paola', 'Damaris', 'Abril', 'Regina', 'Angela']"
      ]
     },
     "execution_count": 56,
     "metadata": {},
     "output_type": "execute_result"
    }
   ],
   "source": [
    "nombres=diccionario.get('Nombres')\n",
    "nombres"
   ]
  },
  {
   "cell_type": "markdown",
   "metadata": {},
   "source": [
    "Añadir dos personas nuevas a tu diccionario, incluyendo edad"
   ]
  },
  {
   "cell_type": "code",
   "execution_count": 59,
   "metadata": {},
   "outputs": [
    {
     "data": {
      "text/plain": [
       "{'Nombres': ['Amanda',\n",
       "  'Paola',\n",
       "  'Damaris',\n",
       "  'Abril',\n",
       "  'Regina',\n",
       "  'Angela',\n",
       "  'Natalie'],\n",
       " 'Edades': [19, 20, 24, 21, 18, 22]}"
      ]
     },
     "execution_count": 59,
     "metadata": {},
     "output_type": "execute_result"
    }
   ],
   "source": [
    "dicup = {'Nombres' : ['Amanda','Paola','Damaris','Abril','Regina', 'Angela','Natalie'],'Edades' : [19, 20, 24, 21, 18, 22]}\n",
    "diccionario.update(dicup)\n",
    "diccionario"
   ]
  },
  {
   "cell_type": "markdown",
   "metadata": {},
   "source": [
    "# Sets"
   ]
  },
  {
   "cell_type": "markdown",
   "metadata": {},
   "source": [
    "Crea un set con 100 numeros aleatorios enteros del 1 al 25."
   ]
  },
  {
   "cell_type": "code",
   "execution_count": 83,
   "metadata": {},
   "outputs": [
    {
     "name": "stdout",
     "output_type": "stream",
     "text": [
      "{1, 2, 3, 4, 5, 6, 7, 8, 9, 10, 11, 12, 13, 14, 15, 16, 17, 18, 19, 20, 21, 22, 23, 24, 25}\n"
     ]
    }
   ],
   "source": [
    "import random as a\n",
    "settest = set()\n",
    "for i in range(0,99):\n",
    "    settest.add(a.randint(1,25))\n",
    "\n",
    "\n",
    "print(settest)"
   ]
  },
  {
   "cell_type": "markdown",
   "metadata": {},
   "source": [
    "Comprueba la longitud de tu set."
   ]
  },
  {
   "cell_type": "code",
   "execution_count": 84,
   "metadata": {},
   "outputs": [
    {
     "name": "stdout",
     "output_type": "stream",
     "text": [
      "El set es de longitud: 25\n"
     ]
    }
   ],
   "source": [
    "print(\"El set es de longitud:\",len(settest))"
   ]
  },
  {
   "cell_type": "markdown",
   "metadata": {},
   "source": [
    "Crea una lista de 5 numeros aleatorios del 1 al 10 y comprueba si cada valor aparece en el set inicial"
   ]
  },
  {
   "cell_type": "code",
   "execution_count": 97,
   "metadata": {},
   "outputs": [
    {
     "name": "stdout",
     "output_type": "stream",
     "text": [
      "¿El numero obtenido aleatoriamente 13 se encuentra en el set?\n",
      "True\n",
      "¿El numero obtenido aleatoriamente 63 se encuentra en el set?\n",
      "False\n",
      "¿El numero obtenido aleatoriamente 89 se encuentra en el set?\n",
      "False\n",
      "¿El numero obtenido aleatoriamente 62 se encuentra en el set?\n",
      "False\n",
      "¿El numero obtenido aleatoriamente 79 se encuentra en el set?\n",
      "False\n",
      "¿El numero obtenido aleatoriamente 4 se encuentra en el set?\n",
      "True\n",
      "¿El numero obtenido aleatoriamente 18 se encuentra en el set?\n",
      "True\n",
      "¿El numero obtenido aleatoriamente 13 se encuentra en el set?\n",
      "True\n",
      "¿El numero obtenido aleatoriamente 44 se encuentra en el set?\n",
      "False\n"
     ]
    }
   ],
   "source": [
    "for i in range(0,9):\n",
    "    al = a.randint(1,100)\n",
    "    print(\"¿El numero obtenido aleatoriamente\", al, \"se encuentra en el set?\")\n",
    "    print(al in settest)"
   ]
  },
  {
   "cell_type": "code",
   "execution_count": null,
   "metadata": {},
   "outputs": [],
   "source": []
  }
 ],
 "metadata": {
  "kernelspec": {
   "display_name": "Python 3",
   "language": "python",
   "name": "python3"
  },
  "language_info": {
   "codemirror_mode": {
    "name": "ipython",
    "version": 3
   },
   "file_extension": ".py",
   "mimetype": "text/x-python",
   "name": "python",
   "nbconvert_exporter": "python",
   "pygments_lexer": "ipython3",
   "version": "3.7.6"
  }
 },
 "nbformat": 4,
 "nbformat_minor": 4
}
